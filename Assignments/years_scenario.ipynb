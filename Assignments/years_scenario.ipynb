{
 "cells": [
  {
   "cell_type": "code",
   "execution_count": 6,
   "metadata": {},
   "outputs": [
    {
     "name": "stdout",
     "output_type": "stream",
     "text": [
      "enter year number2\n",
      "Dog\n"
     ]
    }
   ],
   "source": [
    "print(\"enter year number\",end=\"\")\n",
    "y=int(input())\n",
    "switcher={\n",
    "    0:\"Monkey\",\n",
    "    1:\"Rooster\",\n",
    "    2:\"Dog\",\n",
    "    3:\"Pig\",\n",
    "    4:\"Rat\",\n",
    "    5:\"Ox\",\n",
    "    6:\"Tiger\",\n",
    "    7:\"rabbit\",\n",
    "    8:\"Dragon\",\n",
    "    9:\"Snake\",\n",
    "    10:\"Horse\",\n",
    "    11:\"Sheep\"\n",
    "}\n",
    "print(switcher.get((y%12),\"Invalid Year\"))       "
   ]
  },
  {
   "cell_type": "code",
   "execution_count": null,
   "metadata": {},
   "outputs": [],
   "source": []
  }
 ],
 "metadata": {
  "kernelspec": {
   "display_name": "Python 3",
   "language": "python",
   "name": "python3"
  },
  "language_info": {
   "codemirror_mode": {
    "name": "ipython",
    "version": 3
   },
   "file_extension": ".py",
   "mimetype": "text/x-python",
   "name": "python",
   "nbconvert_exporter": "python",
   "pygments_lexer": "ipython3",
   "version": "3.7.6"
  }
 },
 "nbformat": 4,
 "nbformat_minor": 4
}
