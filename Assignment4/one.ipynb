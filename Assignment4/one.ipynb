{
 "cells": [
  {
   "cell_type": "code",
   "execution_count": 51,
   "metadata": {},
   "outputs": [],
   "source": [
    "import numpy as np\n",
    "import pandas as pd\n",
    "from matplotlib import pyplot as plt"
   ]
  },
  {
   "cell_type": "code",
   "execution_count": 52,
   "metadata": {},
   "outputs": [
    {
     "data": {
      "text/html": [
       "<div>\n",
       "<style scoped>\n",
       "    .dataframe tbody tr th:only-of-type {\n",
       "        vertical-align: middle;\n",
       "    }\n",
       "\n",
       "    .dataframe tbody tr th {\n",
       "        vertical-align: top;\n",
       "    }\n",
       "\n",
       "    .dataframe thead th {\n",
       "        text-align: right;\n",
       "    }\n",
       "</style>\n",
       "<table border=\"1\" class=\"dataframe\">\n",
       "  <thead>\n",
       "    <tr style=\"text-align: right;\">\n",
       "      <th></th>\n",
       "      <th>YearsExperience</th>\n",
       "      <th>Salary</th>\n",
       "    </tr>\n",
       "  </thead>\n",
       "  <tbody>\n",
       "    <tr>\n",
       "      <th>0</th>\n",
       "      <td>1.1</td>\n",
       "      <td>39343.0</td>\n",
       "    </tr>\n",
       "    <tr>\n",
       "      <th>1</th>\n",
       "      <td>1.3</td>\n",
       "      <td>46205.0</td>\n",
       "    </tr>\n",
       "    <tr>\n",
       "      <th>2</th>\n",
       "      <td>1.5</td>\n",
       "      <td>37731.0</td>\n",
       "    </tr>\n",
       "    <tr>\n",
       "      <th>3</th>\n",
       "      <td>2.0</td>\n",
       "      <td>43525.0</td>\n",
       "    </tr>\n",
       "    <tr>\n",
       "      <th>4</th>\n",
       "      <td>2.2</td>\n",
       "      <td>39891.0</td>\n",
       "    </tr>\n",
       "    <tr>\n",
       "      <th>5</th>\n",
       "      <td>2.9</td>\n",
       "      <td>56642.0</td>\n",
       "    </tr>\n",
       "    <tr>\n",
       "      <th>6</th>\n",
       "      <td>3.0</td>\n",
       "      <td>60150.0</td>\n",
       "    </tr>\n",
       "    <tr>\n",
       "      <th>7</th>\n",
       "      <td>3.2</td>\n",
       "      <td>54445.0</td>\n",
       "    </tr>\n",
       "    <tr>\n",
       "      <th>8</th>\n",
       "      <td>3.2</td>\n",
       "      <td>64445.0</td>\n",
       "    </tr>\n",
       "    <tr>\n",
       "      <th>9</th>\n",
       "      <td>3.7</td>\n",
       "      <td>57189.0</td>\n",
       "    </tr>\n",
       "    <tr>\n",
       "      <th>10</th>\n",
       "      <td>3.9</td>\n",
       "      <td>63218.0</td>\n",
       "    </tr>\n",
       "    <tr>\n",
       "      <th>11</th>\n",
       "      <td>4.0</td>\n",
       "      <td>55794.0</td>\n",
       "    </tr>\n",
       "    <tr>\n",
       "      <th>12</th>\n",
       "      <td>4.0</td>\n",
       "      <td>56957.0</td>\n",
       "    </tr>\n",
       "    <tr>\n",
       "      <th>13</th>\n",
       "      <td>4.1</td>\n",
       "      <td>57081.0</td>\n",
       "    </tr>\n",
       "    <tr>\n",
       "      <th>14</th>\n",
       "      <td>4.5</td>\n",
       "      <td>61111.0</td>\n",
       "    </tr>\n",
       "    <tr>\n",
       "      <th>15</th>\n",
       "      <td>4.9</td>\n",
       "      <td>67938.0</td>\n",
       "    </tr>\n",
       "    <tr>\n",
       "      <th>16</th>\n",
       "      <td>5.1</td>\n",
       "      <td>66029.0</td>\n",
       "    </tr>\n",
       "    <tr>\n",
       "      <th>17</th>\n",
       "      <td>5.3</td>\n",
       "      <td>83088.0</td>\n",
       "    </tr>\n",
       "    <tr>\n",
       "      <th>18</th>\n",
       "      <td>5.9</td>\n",
       "      <td>81363.0</td>\n",
       "    </tr>\n",
       "    <tr>\n",
       "      <th>19</th>\n",
       "      <td>6.0</td>\n",
       "      <td>93940.0</td>\n",
       "    </tr>\n",
       "    <tr>\n",
       "      <th>20</th>\n",
       "      <td>6.8</td>\n",
       "      <td>91738.0</td>\n",
       "    </tr>\n",
       "    <tr>\n",
       "      <th>21</th>\n",
       "      <td>7.1</td>\n",
       "      <td>98273.0</td>\n",
       "    </tr>\n",
       "    <tr>\n",
       "      <th>22</th>\n",
       "      <td>7.9</td>\n",
       "      <td>101302.0</td>\n",
       "    </tr>\n",
       "    <tr>\n",
       "      <th>23</th>\n",
       "      <td>8.2</td>\n",
       "      <td>113812.0</td>\n",
       "    </tr>\n",
       "    <tr>\n",
       "      <th>24</th>\n",
       "      <td>8.7</td>\n",
       "      <td>109431.0</td>\n",
       "    </tr>\n",
       "    <tr>\n",
       "      <th>25</th>\n",
       "      <td>9.0</td>\n",
       "      <td>105582.0</td>\n",
       "    </tr>\n",
       "    <tr>\n",
       "      <th>26</th>\n",
       "      <td>9.5</td>\n",
       "      <td>116969.0</td>\n",
       "    </tr>\n",
       "    <tr>\n",
       "      <th>27</th>\n",
       "      <td>9.6</td>\n",
       "      <td>112635.0</td>\n",
       "    </tr>\n",
       "    <tr>\n",
       "      <th>28</th>\n",
       "      <td>10.3</td>\n",
       "      <td>122391.0</td>\n",
       "    </tr>\n",
       "    <tr>\n",
       "      <th>29</th>\n",
       "      <td>10.5</td>\n",
       "      <td>121872.0</td>\n",
       "    </tr>\n",
       "  </tbody>\n",
       "</table>\n",
       "</div>"
      ],
      "text/plain": [
       "    YearsExperience    Salary\n",
       "0               1.1   39343.0\n",
       "1               1.3   46205.0\n",
       "2               1.5   37731.0\n",
       "3               2.0   43525.0\n",
       "4               2.2   39891.0\n",
       "5               2.9   56642.0\n",
       "6               3.0   60150.0\n",
       "7               3.2   54445.0\n",
       "8               3.2   64445.0\n",
       "9               3.7   57189.0\n",
       "10              3.9   63218.0\n",
       "11              4.0   55794.0\n",
       "12              4.0   56957.0\n",
       "13              4.1   57081.0\n",
       "14              4.5   61111.0\n",
       "15              4.9   67938.0\n",
       "16              5.1   66029.0\n",
       "17              5.3   83088.0\n",
       "18              5.9   81363.0\n",
       "19              6.0   93940.0\n",
       "20              6.8   91738.0\n",
       "21              7.1   98273.0\n",
       "22              7.9  101302.0\n",
       "23              8.2  113812.0\n",
       "24              8.7  109431.0\n",
       "25              9.0  105582.0\n",
       "26              9.5  116969.0\n",
       "27              9.6  112635.0\n",
       "28             10.3  122391.0\n",
       "29             10.5  121872.0"
      ]
     },
     "execution_count": 52,
     "metadata": {},
     "output_type": "execute_result"
    }
   ],
   "source": [
    "data = pd.read_csv('Salary_Data.csv')\n",
    "data"
   ]
  },
  {
   "cell_type": "code",
   "execution_count": 53,
   "metadata": {},
   "outputs": [],
   "source": [
    "m1=[1,1,2,2,3,3,4,4,5,5]\n",
    "c1=[1,1.5,2,2.5,3,3.5,4,4.5,5,5.5]\n",
    "ypre=[]"
   ]
  },
  {
   "cell_type": "code",
   "execution_count": 54,
   "metadata": {},
   "outputs": [
    {
     "name": "stdout",
     "output_type": "stream",
     "text": [
      "[1547706412.8100002, 2134689487.2899997, 1423439712.25, 1894164484.0, 1591036588.8400002, 3207874371.6099997, 3617541316.0, 2963800704.6400003, 4152616704.6400003, 3270044166.4900002, 3995896011.6099997, 3112412521.0, 3243530304.0, 3257658360.81, 3733882130.25, 4614770210.410001, 4359023324.409999, 6902568874.889999, 6618815007.210001, 8823408489.0, 8414429592.039999, 9655990572.009998, 10260292107.61, 12951077287.84, 11973020893.69, 11145447184.0, 13679290722.25, 12684255475.359999, 14976790972.09, 14849981460.25]\n",
      "[1547667072.16, 2134643284.8399997, 1423401984.0, 1894120962.25, 1590996701.2900002, 3207817733.7599998, 3617481170.25, 2963746264.09, 4152552264.09, 3269986982.4400005, 3995832798.7599998, 3112356732.25, 3243473352.25, 3257601285.1600003, 3733821025.0, 4614702278.56, 4358957301.759999, 6902485793.44, 6618733651.360001, 8823314556.25, 8414337862.089999, 9655892307.359999, 10260190814.760002, 12950963485.29, 11972911472.640001, 11145341612.25, 13679173764.0, 12684142851.21, 14976668592.64, 14849859600.0]\n",
      "[1547541185.4400003, 2134476960.16, 1423251076.0, 1893903361.0, 1590781317.1599998, 3207432609.64, 3617060164.0, 2963343419.56, 4152075419.56, 3269506656.16, 3995276547.24, 3111854656.0, 3242960809.0, 3257076212.6400003, 3733210000.0, 4613968646.44, 4358217882.240001, 6901522085.159999, 6617692340.639999, 8822093476.0, 8412998661.759999, 9654398746.24, 10258489169.64, 12948983400.960001, 11970898214.560001, 11143335844.0, 13676834704.0, 12681867950.44, 14974025318.56, 14847178801.0]\n",
      "[1547501846.8900003, 2134430760.0100002, 1423213350.25, 1893859842.25, 1590741432.81, 3207375975.6899996, 3617000022.25, 2963288983.21, 4152010983.21, 3269449476.81, 3995213339.2899995, 3111798872.25, 3242903862.25, 3257019142.09, 3733148900.25, 4613900720.49, 4358151865.690001, 6901439010.009999, 6617610991.69, 8821999550.25, 8412906939.609999, 9654300489.69, 10258387885.689999, 12948869607.61, 11970788803.210001, 11143230282.25, 13676717756.25, 12681755336.890001, 14973902950.409998, 14847056952.25]\n",
      "[1547375966.8899999, 2134264443.61, 1423062452.25, 1893642256.0, 1590526065.96, 3206990878.09, 3616579044.0, 2962886169.76, 4151534169.76, 3268969190.01, 3994657130.8900003, 3111296841.0, 3242391364.0, 3256494116.49, 3732537930.25, 4613167152.09, 4357412514.49, 6900475374.810001, 6616569769.290001, 8820778561.0, 8411567853.160001, 9652807051.689999, 10256686390.09, 12946889683.359999, 11968775723.609999, 11141224704.0, 13674378906.25, 12679480650.24, 14971259920.410002, 14844376406.25]\n",
      "[1547336630.4399998, 2134218245.7599998, 1423024729.0, 1893598740.25, 1590486184.8100002, 3206934248.0400004, 3616518906.25, 2962831737.61, 4151469737.61, 3268912015.36, 3994593927.84, 3111241062.25, 3242334422.25, 3256437051.0399995, 3732476836.0, 4613099232.04, 4357346504.04, 6900392305.960001, 6616488427.240001, 8820684642.25, 8411476138.810001, 9652708803.24, 10256585115.04, 12946775899.21, 11968666321.96, 11141119152.25, 13674261969.0, 12679368047.289999, 14971137563.560001, 14844254569.0]\n",
      "[1547210757.1599998, 2134051937.6400003, 1422873841.0, 1893381169.0, 1590270835.2399998, 3206549176.96, 3616097956.0, 2962428955.24, 4150992955.24, 3268431768.0399995, 3994037762.5600004, 3110739076.0, 3241821969.0, 3255912072.3599997, 3731865921.0, 4612365727.36, 4356607221.160001, 6899428743.84, 6615447293.159999, 8819463744.0, 8410137166.240001, 9651215488.36, 10254883768.96, 12944796135.039999, 11966653420.84, 11139113764.0, 13671923329.0, 12677093574.760002, 14968494777.640001, 14841574276.0]\n",
      "[1547171422.81, 2134005742.0900002, 1422836120.25, 1893337656.25, 1590230957.2899997, 3206492550.81, 3616037822.25, 2962374527.2899995, 4150928527.2899995, 3268374598.0899997, 3993974564.4100003, 3110683302.25, 3241765032.25, 3255855012.0099998, 3731804832.25, 4612297813.209999, 4356541216.81, 6899345681.290001, 6615365958.009999, 8819369832.25, 8410045459.690001, 9651117248.01, 10254782502.81, 12944682360.09, 11966544028.89, 11139008222.25, 13671806402.25, 12676980982.410002, 14968372432.09, 14841452450.25]\n",
      "[1547045556.25, 2133839442.25, 1422685242.25, 1893120100.0, 1590015625.0, 3206107506.25, 3615616900.0, 2961971776.0, 4150451776.0, 3267894390.25, 3993418442.25, 3110181361.0, 3241252624.0, 3255330080.25, 3731193972.25, 4611564372.25, 4355802002.25, 6898382192.25, 6614324912.25, 8818149025.0, 8408706601.0, 9649624056.25, 10253081306.25, 12942702756.0, 11964531306.25, 11137003024.0, 13669467972.25, 12674706724.0, 14965729890.25, 14838772410.25]\n",
      "[1547006224.0, 2133793249.0, 1422647524.0, 1893076590.25, 1589975750.25, 3206050884.0, 3615556770.25, 2961917352.25, 4150387352.25, 3267837225.0, 3993355249.0, 3110125592.25, 3241195692.25, 3255273025.0, 3731132889.0, 4611496464.0, 4355736004.0, 6898299136.0, 6614243584.0, 8818055120.25, 8408614902.25, 9649525824.0, 10252980049.0, 12942588990.25, 11964421924.0, 11136897492.25, 13669351056.0, 12674594142.25, 14965607556.0, 14838650596.0]\n"
     ]
    }
   ],
   "source": [
    "e=[]\n",
    "for i in range(0,10):\n",
    "    ypre=[]\n",
    "    for x in data['YearsExperience']:\n",
    "        ypre.append(m1[i]*x+c1[i])\n",
    "    j=0\n",
    "    for y in data['Salary']:\n",
    "        ypre[j]=y-ypre[j]\n",
    "        ypre[j] =ypre[j]**2\n",
    "        j+=1\n",
    "    print(ypre)\n",
    "    sum=0.0\n",
    "    for y in ypre:\n",
    "        sum+=y\n",
    "    e.append(sum)"
   ]
  },
  {
   "cell_type": "code",
   "execution_count": 55,
   "metadata": {},
   "outputs": [
    {
     "name": "stdout",
     "output_type": "stream",
     "text": [
      "[195055455449.29996, 195053175556.19995, 195022255635.2, 195019975931.50003, 194989058679.7, 194986779165.4, 194955864582.8, 194953585257.9, 194922673344.5, 194920394209.0]\n"
     ]
    }
   ],
   "source": [
    "print(e)"
   ]
  },
  {
   "cell_type": "code",
   "execution_count": 56,
   "metadata": {},
   "outputs": [
    {
     "name": "stdout",
     "output_type": "stream",
     "text": [
      "[1, 2, 3, 4, 5, 6, 7, 8, 9, 10]\n"
     ]
    }
   ],
   "source": [
    "index=[i+1 for i in range(0,10)]\n",
    "print(index)"
   ]
  },
  {
   "cell_type": "code",
   "execution_count": 57,
   "metadata": {},
   "outputs": [],
   "source": [
    "x_index=np.array(index)\n",
    "y_error=np.array(e)"
   ]
  },
  {
   "cell_type": "code",
   "execution_count": 58,
   "metadata": {},
   "outputs": [
    {
     "data": {
      "text/plain": [
       "[<matplotlib.lines.Line2D at 0x21edd76eac8>]"
      ]
     },
     "execution_count": 58,
     "metadata": {},
     "output_type": "execute_result"
    },
    {
     "data": {
      "image/png": "[encoded data removed]",
      "text/plain": [
       "<Figure size 432x288 with 1 Axes>"
      ]
     },
     "metadata": {
      "needs_background": "light"
     },
     "output_type": "display_data"
    }
   ],
   "source": [
    "plt.plot(x_index,y_error)"
   ]
  },
  {
   "cell_type": "code",
   "execution_count": 61,
   "metadata": {},
   "outputs": [
    {
     "name": "stdout",
     "output_type": "stream",
     "text": [
      "5 5.5\n"
     ]
    }
   ],
   "source": [
    "x=min(e)\n",
    "y=e.index(x)\n",
    "m=m1[y]\n",
    "c=c1[y]\n",
    "print(m,c)"
   ]
  },
  {
   "cell_type": "code",
   "execution_count": 67,
   "metadata": {},
   "outputs": [
    {
     "name": "stdout",
     "output_type": "stream",
     "text": [
      "Salary for 4.2 years Experience : 26.5\n",
      "Salary for 5.2 years Experience : 31.5\n"
     ]
    }
   ],
   "source": [
    "#salary for 4.2,5.2 years experience\n",
    "a=m*(4.2)+c\n",
    "b=m*(5.2)+c\n",
    "print(f\"Salary for 4.2 years Experience : {a}\")\n",
    "print(f\"Salary for 5.2 years Experience : {b}\")"
   ]
  },
  {
   "cell_type": "code",
   "execution_count": 66,
   "metadata": {},
   "outputs": [
    {
     "name": "stdout",
     "output_type": "stream",
     "text": [
      "enter experience4.2\n",
      "Salary : 26.5\n"
     ]
    }
   ],
   "source": [
    "years=float(input('enter experience'))\n",
    "print(f\"Salary : {m*years+c}\")"
   ]
  },
  {
   "cell_type": "code",
   "execution_count": null,
   "metadata": {},
   "outputs": [],
   "source": []
  }
 ],
 "metadata": {
  "kernelspec": {
   "display_name": "Python 3",
   "language": "python",
   "name": "python3"
  },
  "language_info": {
   "codemirror_mode": {
    "name": "ipython",
    "version": 3
   },
   "file_extension": ".py",
   "mimetype": "text/x-python",
   "name": "python",
   "nbconvert_exporter": "python",
   "pygments_lexer": "ipython3",
   "version": "3.7.6"
  }
 },
 "nbformat": 4,
 "nbformat_minor": 4
}
