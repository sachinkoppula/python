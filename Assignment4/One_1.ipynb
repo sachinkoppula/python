{
 "cells": [
  {
   "cell_type": "code",
   "execution_count": 12,
   "metadata": {},
   "outputs": [],
   "source": [
    "import numpy as np\n",
    "import pandas as pd\n",
    "import matplotlib.pyplot as plt\n",
    "\n",
    "er=[]\n",
    "m1=[]\n",
    "c1=[]\n",
    "te=[]\n",
    "def compute_error(c, m, x,y):\n",
    "    totalError = 0\n",
    "    x = x\n",
    "    y = y\n",
    "    #print(c,m)\n",
    "    m1.append(m)\n",
    "    c1.append(c)\n",
    "    for i in range(0,len(x)):\n",
    "        totalError+=(((m * x[i] + c)-y[i]) ** 2)\n",
    "      #te.append(totalError)\n",
    "    #print(te)\n",
    "    #err=(np.array(te).sum())\n",
    "    er.append(totalError/len(x))\n",
    "    #print(er)\n",
    "\n",
    "def step_gradient(c_current, m_current, x,y, learningRate):\n",
    "    c_gradient = 0.0\n",
    "    m_gradient = 0.0\n",
    "    N = float(len(x))\n",
    "    x = x\n",
    "    y = y\n",
    "    cg=[]\n",
    "    mg=[]\n",
    "    for i in range(0,len(x)):\n",
    "        cg.append(((m_current * x[i]) + c_current)-y[i])\n",
    "        mg.append(x[i] * (((m_current * x) + c_current)-y[i]))\n",
    "    c_gradient=(np.array(cg).sum())/N\n",
    "    m_gradient=(np.array(mg).sum())/N\n",
    "    new_c = c_current - (learningRate * c_gradient)\n",
    "    new_m = m_current - (learningRate * m_gradient)\n",
    "    compute_error(new_c,new_m,x,y)\n",
    "    return [new_c, new_m]\n",
    "\n",
    "def gradient_descent_runner(x,y, starting_c, starting_m, learning_rate, num_iterations):\n",
    "    c = starting_c\n",
    "    m = starting_m\n",
    "    for i in range(num_iterations):\n",
    "      c,m=step_gradient(c, m, x,y, learning_rate)\n",
    "      #print(c,m)\n",
    "   \n",
    "\n",
    "def run():\n",
    "    sn = pd.read_csv('Salary_Data.csv')\n",
    "    x1=sn.iloc[:,0:1]\n",
    "    y1=sn.iloc[:,1:2]\n",
    "    x=np.array(x1)\n",
    "    y=np.array(y1)\n",
    "    learning_rate = 0.0001\n",
    "    initial_c = 1 # initial y-intercept guess\n",
    "    initial_m = 1 # initial slope guess\n",
    "    num_iterations = 20\n",
    "    compute_error(initial_c, initial_m,x,y)\n",
    "    gradient_descent_runner(x,y, initial_c, initial_m, learning_rate, num_iterations)\n",
    "    \n",
    "\n",
    "\n",
    "run()\n",
    "it=np.arange(0,101)\n",
    "#print(er)\n",
    "#plt.plot(it,er)"
   ]
  },
  {
   "cell_type": "code",
   "execution_count": 14,
   "metadata": {},
   "outputs": [
    {
     "name": "stdout",
     "output_type": "stream",
     "text": [
      "[array([6.50184851e+09]), array([5.20743297e+09]), array([4.15245096e+09]), array([3.29554172e+09]), array([2.60227141e+09]), array([2.04399042e+09]), array([1.59687772e+09]), array([1.24114176e+09]), array([9.60352465e+08]), array([7.40882853e+08]), array([5.71442352e+08]), array([4.42686926e+08]), array([3.46893378e+08]), array([2.77687365e+08]), array([2.29816321e+08]), array([1.98959942e+08]), array([1.81572071e+08]), array([1.74748824e+08]), array([1.7611866e+08]), array([1.83750777e+08]), array([1.96078823e+08])]\n",
      "17\n",
      "13147.313709762298 59.93521298470703\n",
      "55278.652793986366\n"
     ]
    },
    {
     "data": {
      "image/png": "[encoded data removed]",
      "text/plain": [
       "<Figure size 432x288 with 1 Axes>"
      ]
     },
     "metadata": {
      "needs_background": "light"
     },
     "output_type": "display_data"
    }
   ],
   "source": [
    "sn = pd.read_csv('Salary_Data.csv')\n",
    "x1=sn.iloc[:,0:1]\n",
    "y1=sn.iloc[:,1:2]\n",
    "x=np.array(x1)\n",
    "plt.scatter(x1,y1)\n",
    "m=max(np.array(m1))\n",
    "c=min(np.array(c1))\n",
    "e=np.array(er)\n",
    "print(er)\n",
    "e1=min(e)\n",
    "print(er.index(e1))\n",
    "print(m1[er.index(e1)],c1[er.index(e1)])\n",
    "p=[]\n",
    "for i in range(0,len(x1)):\n",
    "    p.append(m1[er.index(e1)]*x[i]+c1[er.index(e1)])\n",
    "plt.plot(x1,p)\n",
    "print(m1[er.index(e1)]*4.2+c1[er.index(e1)])"
   ]
  },
  {
   "cell_type": "code",
   "execution_count": 3,
   "metadata": {},
   "outputs": [
    {
     "data": {
      "text/plain": [
       "[<matplotlib.lines.Line2D at 0x212e55f8e08>]"
      ]
     },
     "execution_count": 3,
     "metadata": {},
     "output_type": "execute_result"
    },
    {
     "data": {
      "image/png": "[encoded data removed]",
      "text/plain": [
       "<Figure size 432x288 with 1 Axes>"
      ]
     },
     "metadata": {
      "needs_background": "light"
     },
     "output_type": "display_data"
    }
   ],
   "source": [
    "a=np.arange(0,101)\n",
    "plt.plot(a,er)"
   ]
  },
  {
   "cell_type": "code",
   "execution_count": null,
   "metadata": {},
   "outputs": [],
   "source": []
  }
 ],
 "metadata": {
  "kernelspec": {
   "display_name": "Python 3",
   "language": "python",
   "name": "python3"
  },
  "language_info": {
   "codemirror_mode": {
    "name": "ipython",
    "version": 3
   },
   "file_extension": ".py",
   "mimetype": "text/x-python",
   "name": "python",
   "nbconvert_exporter": "python",
   "pygments_lexer": "ipython3",
   "version": "3.7.6"
  }
 },
 "nbformat": 4,
 "nbformat_minor": 4
}
