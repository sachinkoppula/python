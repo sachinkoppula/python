{
 "cells": [
  {
   "cell_type": "code",
   "execution_count": 1,
   "metadata": {},
   "outputs": [],
   "source": [
    "import numpy as np\n",
    "import pandas as pd\n",
    "import matplotlib.pyplot as plt\n",
    "\n",
    "er=[]\n",
    "m1=[]\n",
    "c1=[]\n",
    "te=[]\n",
    "def compute_error(c, m, x,y):\n",
    "    totalError = 0\n",
    "    x = x\n",
    "    y = y\n",
    "    #print(c,m)\n",
    "    m1.append(m)\n",
    "    c1.append(c)\n",
    "    for i in range(0,len(x)):\n",
    "        totalError+=(((m * x[i] + c)-y[i]) ** 2)\n",
    "      #te.append(totalError)\n",
    "    #print(te)\n",
    "    #err=(np.array(te).sum())\n",
    "    er.append(totalError/len(x))\n",
    "    #print(er)\n",
    "\n",
    "def step_gradient(c_current, m_current, x,y, learningRate):\n",
    "    c_gradient = 0.0\n",
    "    m_gradient = 0.0\n",
    "    N = float(len(x))\n",
    "    x = x\n",
    "    y = y\n",
    "    cg=[]\n",
    "    mg=[]\n",
    "    for i in range(0,len(x)):\n",
    "        cg.append(((m_current * x[i]) + c_current)-y[i])\n",
    "        mg.append(x[i] * (((m_current * x) + c_current)-y[i]))\n",
    "    c_gradient=(np.array(cg).sum())/N\n",
    "    m_gradient=(np.array(mg).sum())/N\n",
    "    new_c = c_current - (learningRate * c_gradient)\n",
    "    new_m = m_current - (learningRate * m_gradient)\n",
    "    compute_error(new_c,new_m,x,y)\n",
    "    return [new_c, new_m]\n",
    "\n",
    "def gradient_descent_runner(x,y, starting_c, starting_m, learning_rate, num_iterations):\n",
    "    c = starting_c\n",
    "    m = starting_m\n",
    "    for i in range(num_iterations):\n",
    "        c,m=step_gradient(c, m, x,y, learning_rate)\n",
    "      #print(c,m)\n",
    "   \n",
    "def run():\n",
    "    data = pd.read_csv('Salary_Data.csv')\n",
    "    z=[]\n",
    "    for x in data.columns:\n",
    "        z.append(x)\n",
    "    data=data[z].apply(lambda rec:(rec - rec.mean())/rec.std(), axis=0)\n",
    "    sn = data\n",
    "    x1=sn.iloc[:,0:1]\n",
    "    y1=sn.iloc[:,1:2]\n",
    "    x=np.array(x1)\n",
    "    y=np.array(y1)\n",
    "    learning_rate = 0.001\n",
    "    initial_c = 1 # initial y-intercept guess\n",
    "    initial_m = 1 # initial slope guess\n",
    "    num_iterations = 100\n",
    "    compute_error(initial_c, initial_m,x,y)\n",
    "    gradient_descent_runner(x,y, initial_c, initial_m, learning_rate, num_iterations)\n",
    "    \n",
    "\n",
    "\n",
    "run()\n",
    "it=np.arange(0,101)\n",
    "#print(er)\n",
    "#plt.plot(it,er)"
   ]
  },
  {
   "cell_type": "code",
   "execution_count": 7,
   "metadata": {},
   "outputs": [
    {
     "name": "stdout",
     "output_type": "stream",
     "text": [
      "[array([1.0420662]), array([1.04203855]), array([1.04357085]), array([1.04666308]), array([1.05131524]), array([1.05752731]), array([1.0652993]), array([1.0746312]), array([1.08552299]), array([1.09797466]), array([1.11198622]), array([1.12755765]), array([1.14468895]), array([1.1633801]), array([1.1836311]), array([1.20544194]), array([1.22881261]), array([1.25374311]), array([1.28023343]), array([1.30828356]), array([1.33789349]), array([1.36906322]), array([1.40179273]), array([1.43608202]), array([1.47193108]), array([1.50933991]), array([1.5483085]), array([1.58883683]), array([1.6309249]), array([1.67457271]), array([1.71978024]), array([1.76654749]), array([1.81487446]), array([1.86476112]), array([1.91620748]), array([1.96921353]), array([2.02377927]), array([2.07990467]), array([2.13758974]), array([2.19683447]), array([2.25763885]), array([2.32000287]), array([2.38392654]), array([2.44940982]), array([2.51645274]), array([2.58505526]), array([2.65521739]), array([2.72693913]), array([2.80022045]), array([2.87506136]), array([2.95146185]), array([3.0294219]), array([3.10894153]), array([3.1900207]), array([3.27265943]), array([3.3568577]), array([3.4426155]), array([3.52993283]), array([3.61880968]), array([3.70924604]), array([3.80124191]), array([3.89479728]), array([3.98991213]), array([4.08658648]), array([4.1848203]), array([4.28461359]), array([4.38596634]), array([4.48887856]), array([4.59335022]), array([4.69938132]), array([4.80697186]), array([4.91612182]), array([5.02683121]), array([5.13910001]), array([5.25292822]), array([5.36831584]), array([5.48526284]), array([5.60376923]), array([5.723835]), array([5.84546015]), array([5.96864466]), array([6.09338853]), array([6.21969175]), array([6.34755432]), array([6.47697623]), array([6.60795747]), array([6.74049803]), array([6.87459792]), array([7.01025711]), array([7.14747562]), array([7.28625342]), array([7.42659051]), array([7.56848689]), array([7.71194254]), array([7.85695747]), array([8.00353166]), array([8.15166511]), array([8.30135782]), array([8.45260976]), array([8.60542095]), array([8.75979137])]\n",
      "1\n",
      "1.028369006936174 0.999\n",
      "enter experience : 4.2\n",
      "salary = 5.31814982913193\n",
      "enter experience : 5.2\n",
      "salary = 6.346518836068104\n"
     ]
    },
    {
     "data": {
      "image/png": "[encoded data removed]",
      "text/plain": [
       "<Figure size 432x288 with 1 Axes>"
      ]
     },
     "metadata": {
      "needs_background": "light"
     },
     "output_type": "display_data"
    }
   ],
   "source": [
    "sn = pd.read_csv('Salary_Data.csv')\n",
    "x1=sn.iloc[:,0:1]\n",
    "y1=sn.iloc[:,1:2]\n",
    "x=np.array(x1)\n",
    "plt.scatter(x1,y1)\n",
    "m=max(np.array(m1))\n",
    "c=min(np.array(c1))\n",
    "e=np.array(er)\n",
    "print(er)\n",
    "e1=min(e)\n",
    "print(er.index(e1))\n",
    "print(m1[er.index(e1)],c1[er.index(e1)])\n",
    "p=[]\n",
    "for i in range(0,len(x1)):\n",
    "    p.append(m1[er.index(e1)]*x[i]+c1[er.index(e1)])\n",
    "plt.plot(x1,p)\n",
    "a=float(input('enter experience : '))\n",
    "print(f'salary = {m1[er.index(e1)]*a+c1[er.index(e1)]}')\n",
    "b=float(input('enter experience : '))\n",
    "print(f'salary = {m1[er.index(e1)]*b+c1[er.index(e1)]}')"
   ]
  },
  {
   "cell_type": "code",
   "execution_count": 3,
   "metadata": {},
   "outputs": [
    {
     "data": {
      "text/plain": [
       "[<matplotlib.lines.Line2D at 0x212e55f8e08>]"
      ]
     },
     "execution_count": 3,
     "metadata": {},
     "output_type": "execute_result"
    },
    {
     "data": {
      "image/png": "[encoded data removed]",
      "text/plain": [
       "<Figure size 432x288 with 1 Axes>"
      ]
     },
     "metadata": {
      "needs_background": "light"
     },
     "output_type": "display_data"
    }
   ],
   "source": [
    "a=np.arange(0,101)\n",
    "plt.plot(a,er)"
   ]
  },
  {
   "cell_type": "code",
   "execution_count": null,
   "metadata": {},
   "outputs": [],
   "source": []
  }
 ],
 "metadata": {
  "kernelspec": {
   "display_name": "Python 3",
   "language": "python",
   "name": "python3"
  },
  "language_info": {
   "codemirror_mode": {
    "name": "ipython",
    "version": 3
   },
   "file_extension": ".py",
   "mimetype": "text/x-python",
   "name": "python",
   "nbconvert_exporter": "python",
   "pygments_lexer": "ipython3",
   "version": "3.7.6"
  }
 },
 "nbformat": 4,
 "nbformat_minor": 4
}
