{
 "cells": [
  {
   "cell_type": "markdown",
   "metadata": {},
   "source": [
    "# 18K41A0599"
   ]
  },
  {
   "cell_type": "markdown",
   "metadata": {},
   "source": [
    "1. Write a python program that read cost from file input() and create userdefined exception InvalidProductBillException , raise exception if cost <0 print message – Bill cannot be negative\n",
    "Input : 300 , output : You need to pay amount 300\n",
    "Input: - 100 , output : Bill cannot be negative"
   ]
  },
  {
   "cell_type": "code",
   "execution_count": 1,
   "metadata": {},
   "outputs": [
    {
     "name": "stdout",
     "output_type": "stream",
     "text": [
      "-1\n",
      "Bill cannot be negative\n"
     ]
    }
   ],
   "source": [
    "class InvalidProductBillException(Exception):\n",
    "  def __str__(self):\n",
    "    return \"Bill cannot be negative\"\n",
    "\n",
    "bill=int(input())\n",
    "try:\n",
    "  if bill<0:\n",
    "    raise InvalidProductBillException\n",
    "  else:\n",
    "    print(\"Your Bill is {}\".format(bill))\n",
    "except InvalidProductBillException as ie:\n",
    "  print(ie)\n",
    "\n"
   ]
  },
  {
   "cell_type": "markdown",
   "metadata": {},
   "source": [
    "2. Facebook Account : Abhi wants to open a Facebook account to stay connected with friends and family, to discover what's going on in the world, and to share and express what matters to them, so help the Abhi with a piece of code to create account .Write a python program that read Laxman age from input() and create userdefined exception InvalidAccountCreationException , raise exception if age <13 print message – You are ineligible to sign up for Facebook\n",
    "\n",
    "Input: 9 , output: You are ineligible to sign up for Facebook\n",
    "Input: 22 , output: Account created successfully"
   ]
  },
  {
   "cell_type": "code",
   "execution_count": 2,
   "metadata": {},
   "outputs": [
    {
     "name": "stdout",
     "output_type": "stream",
     "text": [
      "enter your age:-2\n",
      "You are ineligible to sign up for Facebook\n"
     ]
    }
   ],
   "source": [
    "class InvalidAccountCreationException(Exception):\n",
    "  def __str__(self):\n",
    "    return \"You are ineligible to sign up for Facebook\"\n",
    "\n",
    "age=int(input(\"enter your age:\"))\n",
    "try:\n",
    "  if age<13:\n",
    "    raise InvalidAccountCreationException\n",
    "  else:\n",
    "    print(\"Account Created Successfully\")\n",
    "except InvalidAccountCreationException as ie:\n",
    "  print(ie)\n",
    "  \n"
   ]
  },
  {
   "cell_type": "markdown",
   "metadata": {},
   "source": [
    "3. Write a python program that read marks from input() then print marks and also create userdefined exception InvalidMarksException , raise exception if marks <0 or marks> 100 and print message – you entered invalid marks\n",
    "\n",
    "Input : 56 , output : Marks – 56\n",
    "Input : 156 , output : You Entered Invalid Marks"
   ]
  },
  {
   "cell_type": "code",
   "execution_count": 3,
   "metadata": {},
   "outputs": [
    {
     "name": "stdout",
     "output_type": "stream",
     "text": [
      "102\n",
      "You Entered Invalid Marks\n"
     ]
    }
   ],
   "source": [
    "class InvalidMarksException(Exception):\n",
    "  def __str__(self):\n",
    "    return \"You Entered Invalid Marks\"\n",
    "  \n",
    "marks=int(input())\n",
    "try:\n",
    "  if (marks<0 or marks>100):\n",
    "    raise InvalidMarksException\n",
    "  else:\n",
    "    print(\"Marks - {}\".format(marks))\n",
    "except InvalidMarksException as iee:\n",
    "  print(iee)"
   ]
  },
  {
   "cell_type": "markdown",
   "metadata": {},
   "source": [
    "4. Write a Python program that read string from file name.txt , check whether that string is palindrome or not"
   ]
  },
  {
   "cell_type": "code",
   "execution_count": 4,
   "metadata": {},
   "outputs": [
    {
     "name": "stdout",
     "output_type": "stream",
     "text": [
      "madam\n",
      "madam is palindrome\n"
     ]
    }
   ],
   "source": [
    "name=input()\n",
    "files=open(\"File2.txt\",\"w\")\n",
    "files.write(name)\n",
    "files.close()\n",
    "\n",
    "files=open(\"File2.txt\",\"r\")\n",
    "string=files.readline()\n",
    "if string==string[::-1]:\n",
    "  print(string,\"is palindrome\")\n",
    "else:\n",
    "  print(string,\"is not palindrome\")\n",
    "\n",
    "\n"
   ]
  },
  {
   "cell_type": "markdown",
   "metadata": {},
   "source": [
    "5. Take 10 integer inputs from user and store them in a list. Now, copy all the elements in another list but in reverse order."
   ]
  },
  {
   "cell_type": "code",
   "execution_count": 5,
   "metadata": {},
   "outputs": [
    {
     "name": "stdout",
     "output_type": "stream",
     "text": [
      "enter 10 elements:\n",
      "2\n",
      "4\n",
      "5\n",
      "7\n",
      "3\n",
      "1\n",
      "8\n",
      "9\n",
      "12\n",
      "11\n",
      "[11, 12, 9, 8, 1, 3, 7, 5, 4, 2]\n"
     ]
    }
   ],
   "source": [
    "print(\"enter 10 elements:\")\n",
    "inps=[int(input()) for i in range(10)]\n",
    "inps2=inps[::-1].copy()\n",
    "print(inps2)"
   ]
  },
  {
   "cell_type": "markdown",
   "metadata": {},
   "source": [
    "6. Write a python program that read length of a message(SMS) , create userdefined exception InvalidMessageLengthException , raise exception if length of message >160 print message – Check the length of SMS should be within range 0-160\n",
    "\n",
    "Input : 120 , output : message forwarded successfully\n",
    "\n",
    "Input: 180 , output: Check the length of SMS should be within range 0-160"
   ]
  },
  {
   "cell_type": "code",
   "execution_count": 7,
   "metadata": {},
   "outputs": [
    {
     "name": "stdout",
     "output_type": "stream",
     "text": [
      "162\n",
      "Check the length of SMS should be within range 0-160\n"
     ]
    }
   ],
   "source": [
    "length=int(input())\n",
    "\n",
    "class InvalidMessageLengthException(Exception):\n",
    "  def __str__(self):\n",
    "    return \"Check the length of SMS should be within range 0-160\"\n",
    "\n",
    "try:\n",
    "  if length>160:\n",
    "    raise InvalidMessageLengthException\n",
    "  else:\n",
    "    print(\"Message forwarded successfully\")\n",
    "except InvalidMessageLengthException as iml:\n",
    "  print(iml)"
   ]
  },
  {
   "cell_type": "markdown",
   "metadata": {},
   "source": [
    "7\n",
    "Write a Python function to count the number of digits in a given number and return result into a file countdigit.txt"
   ]
  },
  {
   "cell_type": "code",
   "execution_count": 10,
   "metadata": {},
   "outputs": [
    {
     "name": "stdout",
     "output_type": "stream",
     "text": [
      "Enter a number:126787\n",
      "file saved Successfully !!\n"
     ]
    }
   ],
   "source": [
    "def CountDigs(num):\n",
    "  c=0\n",
    "  while (num!=0):\n",
    "    c+=1\n",
    "    num//=10\n",
    "  return str(c)\n",
    "\n",
    "files=open(\"countdigit.txt\",\"w\")\n",
    "x=CountDigs(int(input(\"Enter a number:\")))\n",
    "files.write(x)\n",
    "print(\"file saved Successfully !!\")\n"
   ]
  },
  {
   "cell_type": "code",
   "execution_count": 11,
   "metadata": {},
   "outputs": [
    {
     "name": "stdout",
     "output_type": "stream",
     "text": [
      "Length saved in file as 6\n"
     ]
    }
   ],
   "source": [
    "files2=open(\"countdigit.txt\",\"r\")\n",
    "print(\"Length saved in file as\",files2.read())"
   ]
  },
  {
   "cell_type": "markdown",
   "metadata": {},
   "source": [
    "8\n",
    "Write a Python program that reads a number from input() , calculate sum of n- natural number and write result into a file sumresult.txt"
   ]
  },
  {
   "cell_type": "code",
   "execution_count": 12,
   "metadata": {},
   "outputs": [
    {
     "name": "stdout",
     "output_type": "stream",
     "text": [
      "8\n",
      "Sum of 8 natural numbers stored in file = 36\n"
     ]
    }
   ],
   "source": [
    "n=int(input())\n",
    "sums=0\n",
    "for i in range(1,n+1):\n",
    "  sums+=i\n",
    "files=open(\"sumresult.txt\",\"w\")\n",
    "files.write(str(sums))\n",
    "files.close()\n",
    "files=open(\"sumresult.txt\",\"r\")\n",
    "print(\"Sum of {} natural numbers stored in file = {}\".format(n,files.read()))"
   ]
  },
  {
   "cell_type": "markdown",
   "metadata": {},
   "source": [
    "9\n",
    "Write a python that demonstrates class and object creation."
   ]
  },
  {
   "cell_type": "code",
   "execution_count": 4,
   "metadata": {},
   "outputs": [],
   "source": [
    "#creating a class\n",
    "class Calculator:\n",
    "  #initialising class variables\n",
    "  op1=None\n",
    "  op2=None\n",
    "  def __init__(self,o1,o2):\n",
    "    self.op1=o1\n",
    "    self.op2=o2\n",
    "  #behaviours of class\n",
    "  def Addn(self):\n",
    "    return self.op1+self.op2\n",
    "  def Subn(self):\n",
    "    return self.op1-self.op2\n",
    "    "
   ]
  },
  {
   "cell_type": "code",
   "execution_count": 5,
   "metadata": {},
   "outputs": [
    {
     "name": "stdout",
     "output_type": "stream",
     "text": [
      "30 15\n",
      "Sum = 45 Difference= 15\n"
     ]
    }
   ],
   "source": [
    "#object creation\n",
    "object=Calculator(30,15)\n",
    "#accessing properties\n",
    "print(object.op1,object.op2)\n",
    "#accessing methods or behaviours\n",
    "print(\"Sum =\",object.Addn(),\"Difference=\",object.Subn())"
   ]
  },
  {
   "cell_type": "markdown",
   "metadata": {},
   "source": [
    "10\n",
    "Write a python program that reads given list and convert list elements into Capitalize format and return the result into target file named listupper.txt(use higher order functions if possible)\n",
    "\n",
    "input : [ramu,laxman,sita,john]\n",
    "output : [Ramu , Laxman, Sita ,John]\n",
    "\n"
   ]
  },
  {
   "cell_type": "code",
   "execution_count": 1,
   "metadata": {},
   "outputs": [
    {
     "name": "stdout",
     "output_type": "stream",
     "text": [
      "sachin\n",
      "kumar\n",
      "ramu\n",
      "ramesh\n",
      "['Sachin', 'Kumar', 'Ramu', 'Ramesh']\n"
     ]
    }
   ],
   "source": [
    "eles=[]\n",
    "for i in range(4):\n",
    "  eles.append(input())\n",
    "\n",
    "def Capital(x):\n",
    "  return x.capitalize()\n",
    "\n",
    "eles=list(map(Capital,eles))\n",
    "print(eles)"
   ]
  },
  {
   "cell_type": "markdown",
   "metadata": {},
   "source": [
    "11\n",
    "Write a python program that read age from file age.txt and create userdefined exception InvalidAgeException , raise exception if age <18 print message – You are not eligible to Vote\n",
    "Input: 56 , output : You are eligible to Vote\n",
    "Input: 16 , output : You are not eligible to Vote"
   ]
  },
  {
   "cell_type": "code",
   "execution_count": 6,
   "metadata": {},
   "outputs": [
    {
     "name": "stdout",
     "output_type": "stream",
     "text": [
      "enter age:17\n",
      "You are not eligible to Vote\n"
     ]
    }
   ],
   "source": [
    "class InvalidAgeExcep(Exception):\n",
    "  def __str__(self):\n",
    "    return \"You are not eligible to Vote\"\n",
    "\n",
    "age=int(input(\"enter age:\"))\n",
    "try:\n",
    "  if age<18:\n",
    "    raise InvalidAgeExcep\n",
    "  else:\n",
    "    print(\"You are eligible to Vote\")\n",
    "except InvalidAgeExcep as ie:\n",
    "  print(ie)"
   ]
  },
  {
   "cell_type": "markdown",
   "metadata": {},
   "source": [
    "12\n",
    "Write a python program that read input string from file stringinput.txt .Find the reverse of that string and write result into another file reversestr.txt"
   ]
  },
  {
   "cell_type": "code",
   "execution_count": 7,
   "metadata": {},
   "outputs": [
    {
     "name": "stdout",
     "output_type": "stream",
     "text": [
      "enter your string:sachin kumar\n",
      "Stored successfully\n"
     ]
    }
   ],
   "source": [
    "files=open(\"stringinput.txt\",\"w\")\n",
    "string=input(\"enter your string:\")\n",
    "files.write(string)\n",
    "files.close()\n",
    "\n",
    "files=open(\"stringinput.txt\",\"r\")\n",
    "string=files.read()\n",
    "files.close()\n",
    "\n",
    "files=open(\"reversestr.txt\",\"w\")\n",
    "files.write(string[::-1])\n",
    "print(\"Stored successfully\")\n",
    "files.close()"
   ]
  },
  {
   "cell_type": "markdown",
   "metadata": {},
   "source": [
    "13\n",
    "Write a python program that demonstrates predefined Exception like NameError , ZeroDivisionError, ValueError, AttributeError"
   ]
  },
  {
   "cell_type": "code",
   "execution_count": 8,
   "metadata": {},
   "outputs": [
    {
     "name": "stdout",
     "output_type": "stream",
     "text": [
      "Attribute Error 'int' object has no attribute 'append'\n"
     ]
    }
   ],
   "source": [
    "try:\n",
    "  x=2\n",
    "  print(x.append(10))\n",
    "except ZeroDivisionError as ze:\n",
    "  print(\"Cant divide number with 0\")\n",
    "except NameError:\n",
    "  print(\"specified variable not yet initialized\")\n",
    "except ValueError:\n",
    "  print(\"invalid value provided\")\n",
    "except AttributeError as ae:\n",
    "  print(\"Attribute Error\",ae)"
   ]
  },
  {
   "cell_type": "markdown",
   "metadata": {},
   "source": [
    "14\n",
    "Write a python program that read size of a file to be attached to mail and create userdefined exception InvalidFileSizeException , raise exception if file size <0 or size >20 print message – Check the size of attached file(should be within range 0-20 MB)\n",
    "\n",
    "Input : 300 , output : Check the size of attached file\n",
    "Input: 10 , output: You can upload file now...."
   ]
  },
  {
   "cell_type": "code",
   "execution_count": 9,
   "metadata": {},
   "outputs": [
    {
     "name": "stdout",
     "output_type": "stream",
     "text": [
      "enter file size:5\n",
      "You can upload file now...\n"
     ]
    }
   ],
   "source": [
    "class InvalidFileSizeException(Exception):\n",
    "  def __str__(self):\n",
    "    return \"Check the size of attached file\"\n",
    "\n",
    "size=int(input(\"enter file size:\"))\n",
    "try:\n",
    "  if size<0 or size>20:\n",
    "    raise InvalidFileSizeException\n",
    "  else:\n",
    "    print(\"You can upload file now...\")\n",
    "except InvalidFileSizeException as fe:\n",
    "  print(fe)"
   ]
  },
  {
   "cell_type": "markdown",
   "metadata": {},
   "source": [
    "15\n",
    "Write a python program that remove items that are multiples of five from a given list (use filter)\n",
    "Input [1,2,5,4,8,10,13,15,18,30]\n",
    "output : [1,2,4,8,13,18]"
   ]
  },
  {
   "cell_type": "code",
   "execution_count": 10,
   "metadata": {},
   "outputs": [
    {
     "name": "stdout",
     "output_type": "stream",
     "text": [
      "[1, 2, 4, 8, 13, 18]\n"
     ]
    }
   ],
   "source": [
    "inputs=[1,2,5,4,8,10,13,15,18,30]\n",
    "output=list(filter(lambda x:x%5!=0,inputs))\n",
    "print(output)"
   ]
  },
  {
   "cell_type": "markdown",
   "metadata": {},
   "source": [
    "16. Write a SQL query to create table Personaldetails (Name,Age,Fathername,Address,Hobbies) "
   ]
  },
  {
   "cell_type": "raw",
   "metadata": {},
   "source": [
    "query : create table Personaldetails('name' varchar(20),'age' int,'fathername' varchar(20),'address' varchar(255), 'hobbies' varchar(100));"
   ]
  },
  {
   "cell_type": "markdown",
   "metadata": {},
   "source": [
    "17. Write a SQL query to create table studentdetails(Name,Age,Address,MarksPercentage, \n",
    "branch) "
   ]
  },
  {
   "cell_type": "raw",
   "metadata": {},
   "source": [
    "query : create table studentdetails('name' varchar(20),'age' int,'address' varchar(20),'markspercentage' double,'branch' varchar(20));"
   ]
  },
  {
   "cell_type": "markdown",
   "metadata": {},
   "source": [
    "18\n",
    "Write a python program that generate desired output i.e. use the filter () function on a sequence of countries to filter out the countries with names that contain the string “and.”\n",
    "Input : Countries=[\"Finland‟,‟Germany‟,‟Sweden‟,‟Ireland‟,‟Turkey‟]\n",
    "Output : [‟Finland‟, ‟Ireland‟]"
   ]
  },
  {
   "cell_type": "code",
   "execution_count": 11,
   "metadata": {},
   "outputs": [
    {
     "data": {
      "text/plain": [
       "['Finland', 'Ireland']"
      ]
     },
     "execution_count": 11,
     "metadata": {},
     "output_type": "execute_result"
    }
   ],
   "source": [
    "def Ands(x):\n",
    "  if 'and' in x:\n",
    "    return True\n",
    "\n",
    "Countries=[\"Finland\",\"Germany\",\"Sweden\",\"Ireland\",\"Turkey\"]\n",
    "output=list(filter(Ands,Countries))\n",
    "output\n"
   ]
  },
  {
   "cell_type": "markdown",
   "metadata": {},
   "source": [
    "19\n",
    "Write a python program that remove items that are multiples of three from a given list (use filter)\n",
    "\n",
    "Input : [1,2,6,4,8,9,13,15,18,30]\n",
    "output : [1,2,4,8,13]"
   ]
  },
  {
   "cell_type": "code",
   "execution_count": 12,
   "metadata": {},
   "outputs": [
    {
     "name": "stdout",
     "output_type": "stream",
     "text": [
      "[1, 2, 4, 8, 13]\n"
     ]
    }
   ],
   "source": [
    "inputs=[1,2,6,4,8,9,13,15,18,30]\n",
    "output=list(filter(lambda x:x%3!=0,inputs))\n",
    "print(output)"
   ]
  },
  {
   "cell_type": "markdown",
   "metadata": {},
   "source": [
    "20\n",
    "Write a python programs that extract three numbers from file input.txt and find largest of three numbers and return output into file largest.txt\n"
   ]
  },
  {
   "cell_type": "code",
   "execution_count": 14,
   "metadata": {},
   "outputs": [
    {
     "name": "stdout",
     "output_type": "stream",
     "text": [
      "Saved successfully\n"
     ]
    }
   ],
   "source": [
    "files=open(\"input.txt\",\"r\")\n",
    "a,b,c=map(int,files.read().split())\n",
    "files.close()\n",
    "\n",
    "files=open(\"output.txt\",\"w\")\n",
    "files.write(str(max(a,b,c)))\n",
    "files.close()\n",
    "\n",
    "print(\"Saved successfully\")"
   ]
  },
  {
   "cell_type": "code",
   "execution_count": null,
   "metadata": {},
   "outputs": [],
   "source": []
  }
 ],
 "metadata": {
  "kernelspec": {
   "display_name": "Python 3",
   "language": "python",
   "name": "python3"
  },
  "language_info": {
   "codemirror_mode": {
    "name": "ipython",
    "version": 3
   },
   "file_extension": ".py",
   "mimetype": "text/x-python",
   "name": "python",
   "nbconvert_exporter": "python",
   "pygments_lexer": "ipython3",
   "version": "3.7.6"
  }
 },
 "nbformat": 4,
 "nbformat_minor": 4
}
