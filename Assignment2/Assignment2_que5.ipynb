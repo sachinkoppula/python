{
 "cells": [
  {
   "cell_type": "code",
   "execution_count": 1,
   "metadata": {},
   "outputs": [
    {
     "name": "stdout",
     "output_type": "stream",
     "text": [
      "Enter a string: orange white red cyan green magenta cyan pink white\n"
     ]
    },
    {
     "data": {
      "text/plain": [
       "{'cyan', 'green', 'magenta', 'orange', 'pink', 'red', 'white'}"
      ]
     },
     "execution_count": 1,
     "metadata": {},
     "output_type": "execute_result"
    }
   ],
   "source": [
    "#5. Unique Sort Problem.\n",
    "#   Take a string as input that accepts a comma separated sequence of words as input and prints the unique words in sorted form (alphanumerically).\n",
    "#   *Input*: orange,white,red,cyan,green,magenta,cyan,pink,white\n",
    "#   *Output*: cyan,green,magenta,orange,pink,red,white\n",
    "\n",
    "str=input(\"Enter a string: \")\n",
    "s=str.split()\n",
    "s.sort()\n",
    "list(s)\n",
    "set(s)"
   ]
  },
  {
   "cell_type": "code",
   "execution_count": null,
   "metadata": {},
   "outputs": [],
   "source": []
  }
 ],
 "metadata": {
  "kernelspec": {
   "display_name": "Python 3",
   "language": "python",
   "name": "python3"
  },
  "language_info": {
   "codemirror_mode": {
    "name": "ipython",
    "version": 3
   },
   "file_extension": ".py",
   "mimetype": "text/x-python",
   "name": "python",
   "nbconvert_exporter": "python",
   "pygments_lexer": "ipython3",
   "version": "3.7.6"
  }
 },
 "nbformat": 4,
 "nbformat_minor": 4
}
