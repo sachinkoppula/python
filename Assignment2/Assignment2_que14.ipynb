{
 "cells": [
  {
   "cell_type": "code",
   "execution_count": 1,
   "metadata": {},
   "outputs": [
    {
     "name": "stdout",
     "output_type": "stream",
     "text": [
      "Enter a num: 586392\n",
      "['5', '8', '6', '3', '9', '2']\n"
     ]
    }
   ],
   "source": [
    "#14.  Write a Python code that takes a number and returns a list of its digits. So for 586392 it should return [5,8,6,3,9,2].\n",
    "\n",
    "num=input(\"Enter a num: \")\n",
    "list=[]\n",
    "for i in range(len(num)):\n",
    "    list.append(num[i])\n",
    "print(list)"
   ]
  },
  {
   "cell_type": "code",
   "execution_count": null,
   "metadata": {},
   "outputs": [],
   "source": []
  }
 ],
 "metadata": {
  "kernelspec": {
   "display_name": "Python 3",
   "language": "python",
   "name": "python3"
  },
  "language_info": {
   "codemirror_mode": {
    "name": "ipython",
    "version": 3
   },
   "file_extension": ".py",
   "mimetype": "text/x-python",
   "name": "python",
   "nbconvert_exporter": "python",
   "pygments_lexer": "ipython3",
   "version": "3.7.6"
  }
 },
 "nbformat": 4,
 "nbformat_minor": 4
}
