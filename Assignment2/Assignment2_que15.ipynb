{
 "cells": [
  {
   "cell_type": "code",
   "execution_count": 1,
   "metadata": {},
   "outputs": [
    {
     "name": "stdout",
     "output_type": "stream",
     "text": [
      "Enter a string : deefeeghi\n",
      "eefee\n"
     ]
    }
   ],
   "source": [
    "#15. Write a program that finds the longest palindromic substring of a given string.\n",
    "\n",
    "def longestpalindrome(s):\n",
    "    d=[[False for i in range(len(s))] for i in range(len(s))]\n",
    "    for i in range(len(s)):\n",
    "        d[i][i]=True\n",
    "    maxlen=1\n",
    "    start=0\n",
    "    for l in range(2,len(s)+1):\n",
    "        for i in range(len(s)-l+1):\n",
    "            end=i+l\n",
    "            if l==2:\n",
    "                if s[i]==s[end-1]:\n",
    "                    d[i][end-1]=True\n",
    "                    maxlen=l\n",
    "                    start=i\n",
    "            else:\n",
    "                if s[i]==s[end-1] and d[i+1][end-2]:\n",
    "                    d[i][end-1]=True\n",
    "                    maxlen=l\n",
    "                    start=i\n",
    "    return s[start:start+maxlen]\n",
    "s=input(\"Enter a string : \")\n",
    "print(longestpalindrome(s))"
   ]
  },
  {
   "cell_type": "code",
   "execution_count": null,
   "metadata": {},
   "outputs": [],
   "source": []
  }
 ],
 "metadata": {
  "kernelspec": {
   "display_name": "Python 3",
   "language": "python",
   "name": "python3"
  },
  "language_info": {
   "codemirror_mode": {
    "name": "ipython",
    "version": 3
   },
   "file_extension": ".py",
   "mimetype": "text/x-python",
   "name": "python",
   "nbconvert_exporter": "python",
   "pygments_lexer": "ipython3",
   "version": "3.7.6"
  }
 },
 "nbformat": 4,
 "nbformat_minor": 4
}
