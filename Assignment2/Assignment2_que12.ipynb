{
 "cells": [
  {
   "cell_type": "code",
   "execution_count": 1,
   "metadata": {},
   "outputs": [
    {
     "name": "stdout",
     "output_type": "stream",
     "text": [
      "Out_list= [11, 14, 42, 123, 90]\n"
     ]
    }
   ],
   "source": [
    "#12.  Compute given Num_list=[5,6,8,34,89,1] to get desired output.\n",
    "#     Output : Out_list=[11,14,42,123,90]\n",
    "\n",
    "l=[5,6,8,34,89,1]\n",
    "Out_list=[]\n",
    "for i in range(len(l)-1):\n",
    "    ol=l[i]+l[i+1]\n",
    "    Out_list.append(ol)\n",
    "print(\"Out_list=\",Out_list)"
   ]
  },
  {
   "cell_type": "code",
   "execution_count": null,
   "metadata": {},
   "outputs": [],
   "source": []
  }
 ],
 "metadata": {
  "kernelspec": {
   "display_name": "Python 3",
   "language": "python",
   "name": "python3"
  },
  "language_info": {
   "codemirror_mode": {
    "name": "ipython",
    "version": 3
   },
   "file_extension": ".py",
   "mimetype": "text/x-python",
   "name": "python",
   "nbconvert_exporter": "python",
   "pygments_lexer": "ipython3",
   "version": "3.7.6"
  }
 },
 "nbformat": 4,
 "nbformat_minor": 4
}
