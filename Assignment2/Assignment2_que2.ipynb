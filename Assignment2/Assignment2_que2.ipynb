{
 "cells": [
  {
   "cell_type": "code",
   "execution_count": 1,
   "metadata": {},
   "outputs": [
    {
     "name": "stdout",
     "output_type": "stream",
     "text": [
      "Enter a string:malayalam\n",
      "Given string malayalam is palindrome\n"
     ]
    }
   ],
   "source": [
    "#2. Take a string from end user and check if the value is palindrome or not.\n",
    "\n",
    "s=input(\"Enter a string:\")\n",
    "if(s==s[::-1]):\n",
    "    print(\"Given string {} is palindrome\".format(s))\n",
    "else:\n",
    "    print(\"Given string {} is not palindrome\".format(s))"
   ]
  },
  {
   "cell_type": "code",
   "execution_count": null,
   "metadata": {},
   "outputs": [],
   "source": []
  }
 ],
 "metadata": {
  "kernelspec": {
   "display_name": "Python 3",
   "language": "python",
   "name": "python3"
  },
  "language_info": {
   "codemirror_mode": {
    "name": "ipython",
    "version": 3
   },
   "file_extension": ".py",
   "mimetype": "text/x-python",
   "name": "python",
   "nbconvert_exporter": "python",
   "pygments_lexer": "ipython3",
   "version": "3.7.6"
  }
 },
 "nbformat": 4,
 "nbformat_minor": 4
}
