{
 "cells": [
  {
   "cell_type": "code",
   "execution_count": 1,
   "metadata": {},
   "outputs": [
    {
     "name": "stdout",
     "output_type": "stream",
     "text": [
      "Enter number of Days: 4\n",
      "Enter number of Hours: 24\n",
      "Enter number of Minutes: 60\n",
      "Enter number of Seconds: 60\n",
      "Total number of seconds =  435660\n"
     ]
    }
   ],
   "source": [
    "#8. Units of Time\n",
    "#   Create a program that reads duration from the user as a number of days, hours, minutes, and seconds. \n",
    "#   Compute and display the total number of seconds represented by this duration.\n",
    "\n",
    "secpermin=60\n",
    "secperhour=3600\n",
    "secperday=86400\n",
    "days=int(input(\"Enter number of Days: \"))\n",
    "hours=int(input(\"Enter number of Hours: \"))\n",
    "minutes=int(input(\"Enter number of Minutes: \"))\n",
    "seconds=int(input(\"Enter number of Seconds: \"))\n",
    "totalsecs=days*secperday\n",
    "totalsecs=totalsecs+(hours*secperhour)\n",
    "totalsecs=totalsecs+(minutes*secpermin)\n",
    "totalsecs=totalsecs+seconds\n",
    "print(\"Total number of seconds = \",\"%d\"%(totalsecs))"
   ]
  },
  {
   "cell_type": "code",
   "execution_count": null,
   "metadata": {},
   "outputs": [],
   "source": []
  }
 ],
 "metadata": {
  "kernelspec": {
   "display_name": "Python 3",
   "language": "python",
   "name": "python3"
  },
  "language_info": {
   "codemirror_mode": {
    "name": "ipython",
    "version": 3
   },
   "file_extension": ".py",
   "mimetype": "text/x-python",
   "name": "python",
   "nbconvert_exporter": "python",
   "pygments_lexer": "ipython3",
   "version": "3.7.6"
  }
 },
 "nbformat": 4,
 "nbformat_minor": 4
}
