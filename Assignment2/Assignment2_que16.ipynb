{
 "cells": [
  {
   "cell_type": "code",
   "execution_count": 1,
   "metadata": {},
   "outputs": [
    {
     "name": "stdout",
     "output_type": "stream",
     "text": [
      "2\n",
      "Enter A string and B string : 1010110010 10110\n",
      "1\n",
      "Enter A string and B string : 1110111011 10011\n",
      "0\n"
     ]
    }
   ],
   "source": [
    "#16.  Substring Check (Bug Funny)\n",
    "#     Given two binary strings, A (of length 10) and B (of length 5), output 1 if B is a substring of A and 0 otherwise.\n",
    "#     First two lines of input:\n",
    "#     1010110010          10110\n",
    "#     1110111011           10011\n",
    "#     First two lines of output:\n",
    "#     1\n",
    "#     0\n",
    "\n",
    "t=int(input())\n",
    "for i in range(t):\n",
    "  A,B=input(\"Enter A string and B string : \").split()\n",
    "  if B in A:\n",
    "    print(\"1\")\n",
    "  else:\n",
    "    print(\"0\")"
   ]
  },
  {
   "cell_type": "code",
   "execution_count": null,
   "metadata": {},
   "outputs": [],
   "source": []
  }
 ],
 "metadata": {
  "kernelspec": {
   "display_name": "Python 3",
   "language": "python",
   "name": "python3"
  },
  "language_info": {
   "codemirror_mode": {
    "name": "ipython",
    "version": 3
   },
   "file_extension": ".py",
   "mimetype": "text/x-python",
   "name": "python",
   "nbconvert_exporter": "python",
   "pygments_lexer": "ipython3",
   "version": "3.7.6"
  }
 },
 "nbformat": 4,
 "nbformat_minor": 4
}
