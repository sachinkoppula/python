{
 "cells": [
  {
   "cell_type": "code",
   "execution_count": 1,
   "metadata": {},
   "outputs": [
    {
     "name": "stdout",
     "output_type": "stream",
     "text": [
      "Out_list= [5, 30, 240, 720, 6480, 6480]\n"
     ]
    }
   ],
   "source": [
    "#13.  Compute given Num_tuple=(5,6,8,3,9,1) to get desired output.\n",
    "#     Output : Out_list=[5,30,240,720,6480,6480]  \n",
    "\n",
    "t=(5,6,8,3,9,1)\n",
    "Out_list=[]\n",
    "Out_list.append(t[0])\n",
    "for i in range(len(t)-1):\n",
    "    p=Out_list[i]*t[i+1]\n",
    "    Out_list.append(p)\n",
    "print(\"Out_list=\",Out_list)"
   ]
  },
  {
   "cell_type": "code",
   "execution_count": null,
   "metadata": {},
   "outputs": [],
   "source": []
  }
 ],
 "metadata": {
  "kernelspec": {
   "display_name": "Python 3",
   "language": "python",
   "name": "python3"
  },
  "language_info": {
   "codemirror_mode": {
    "name": "ipython",
    "version": 3
   },
   "file_extension": ".py",
   "mimetype": "text/x-python",
   "name": "python",
   "nbconvert_exporter": "python",
   "pygments_lexer": "ipython3",
   "version": "3.7.6"
  }
 },
 "nbformat": 4,
 "nbformat_minor": 4
}
