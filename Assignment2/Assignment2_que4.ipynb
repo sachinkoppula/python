{
 "cells": [
  {
   "cell_type": "code",
   "execution_count": 1,
   "metadata": {},
   "outputs": [
    {
     "name": "stdout",
     "output_type": "stream",
     "text": [
      "Enter a string : This program converts spaces into hyphen!!\n",
      "This-program-converts-spaces-into-hyphen!!\n"
     ]
    }
   ],
   "source": [
    "#4. Space to Hyphen problem\n",
    "#   Take a string as input, and replaces spaces \" \" with hyphens \"-\", and returns a string.\n",
    "#   Input: \"This program converts spaces into hyphen\"\n",
    "#   Output: \"This-program-converts-spaces-into-hyphen\"\n",
    "\n",
    "n=input(\"Enter a string : \")\n",
    "print(n.replace(' ','-'))"
   ]
  },
  {
   "cell_type": "code",
   "execution_count": null,
   "metadata": {},
   "outputs": [],
   "source": []
  }
 ],
 "metadata": {
  "kernelspec": {
   "display_name": "Python 3",
   "language": "python",
   "name": "python3"
  },
  "language_info": {
   "codemirror_mode": {
    "name": "ipython",
    "version": 3
   },
   "file_extension": ".py",
   "mimetype": "text/x-python",
   "name": "python",
   "nbconvert_exporter": "python",
   "pygments_lexer": "ipython3",
   "version": "3.7.6"
  }
 },
 "nbformat": 4,
 "nbformat_minor": 4
}
