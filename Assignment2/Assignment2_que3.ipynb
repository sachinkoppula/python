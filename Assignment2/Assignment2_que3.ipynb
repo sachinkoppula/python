{
 "cells": [
  {
   "cell_type": "code",
   "execution_count": 1,
   "metadata": {},
   "outputs": [
    {
     "name": "stdout",
     "output_type": "stream",
     "text": [
      "Enter the year:2021\n",
      "2021 is not a leap year\n"
     ]
    }
   ],
   "source": [
    "#3. Write a program that reads a year from the user and displays a message indicating whether year is leap year or not.\n",
    "\n",
    "yr=int(input(\"Enter the year:\"))\n",
    "if(yr%4==0 and yr%100!=0 or yr%400==0):\n",
    "    print(\"{} is leap year\".format(yr))\n",
    "else:\n",
    "    print(\"{} is not a leap year\".format(yr))"
   ]
  },
  {
   "cell_type": "code",
   "execution_count": null,
   "metadata": {},
   "outputs": [],
   "source": []
  }
 ],
 "metadata": {
  "kernelspec": {
   "display_name": "Python 3",
   "language": "python",
   "name": "python3"
  },
  "language_info": {
   "codemirror_mode": {
    "name": "ipython",
    "version": 3
   },
   "file_extension": ".py",
   "mimetype": "text/x-python",
   "name": "python",
   "nbconvert_exporter": "python",
   "pygments_lexer": "ipython3",
   "version": "3.7.6"
  }
 },
 "nbformat": 4,
 "nbformat_minor": 4
}
