{
 "cells": [
  {
   "cell_type": "code",
   "execution_count": 1,
   "metadata": {},
   "outputs": [
    {
     "name": "stdout",
     "output_type": "stream",
     "text": [
      "Enter a number:3\n",
      "Enter b number:16\n",
      "Enter c number:21\n",
      "Sorted order is: 3 16 21\n"
     ]
    }
   ],
   "source": [
    "#9. Sort 3 integers\n",
    "#   Given three integers (given through user input), sort the numbers using |min| and |max| functions.\n",
    "\n",
    "a=int(input(\"Enter a number:\"))\n",
    "b=int(input(\"Enter b number:\"))\n",
    "c=int(input(\"Enter c number:\"))\n",
    "x=min(a,b,c)\n",
    "y=max(a,b,c)\n",
    "z=(a+b+c)-x-y\n",
    "print(\"Sorted order is:\",x,z,y)"
   ]
  },
  {
   "cell_type": "code",
   "execution_count": null,
   "metadata": {},
   "outputs": [],
   "source": []
  },
  {
   "cell_type": "code",
   "execution_count": null,
   "metadata": {},
   "outputs": [],
   "source": []
  }
 ],
 "metadata": {
  "kernelspec": {
   "display_name": "Python 3",
   "language": "python",
   "name": "python3"
  },
  "language_info": {
   "codemirror_mode": {
    "name": "ipython",
    "version": 3
   },
   "file_extension": ".py",
   "mimetype": "text/x-python",
   "name": "python",
   "nbconvert_exporter": "python",
   "pygments_lexer": "ipython3",
   "version": "3.7.6"
  }
 },
 "nbformat": 4,
 "nbformat_minor": 4
}
