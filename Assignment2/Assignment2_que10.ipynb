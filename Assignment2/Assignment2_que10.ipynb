{
 "cells": [
  {
   "cell_type": "code",
   "execution_count": 1,
   "metadata": {},
   "outputs": [
    {
     "name": "stdout",
     "output_type": "stream",
     "text": [
      "Enter a year : 2020\n",
      "Enter a month between 1 to 12 : 12\n",
      "Enter a day between 1 to 31 : 31\n",
      "The immediate successor is YYYY-MM-DD : 2021-1-1.\n"
     ]
    }
   ],
   "source": [
    "#10.  Write a program that reads a date from the user and computes its immediate successor.The date is the format YYYY-MM-DD. So, 2020-04-15\n",
    "#     will have the successor 2020-04-16.\n",
    "\n",
    "yr=int(input(\"Enter a year : \"))\n",
    "if yr%400== 0:\n",
    "    leap_year=True\n",
    "elif yr%100==0:\n",
    "    leap_year=False\n",
    "elif yr%4==0:\n",
    "    leap_year=True\n",
    "else:\n",
    "    leap_year=False\n",
    "month=int(input(\"Enter a month between 1 to 12 : \"))\n",
    "if month in (1, 3, 5, 7, 8, 10, 12):\n",
    "    month_length=31\n",
    "elif month==2:\n",
    "    if leap_year:\n",
    "        month_length=29\n",
    "    else:\n",
    "        month_length=28\n",
    "else:\n",
    "    month_length=30\n",
    "day=int(input(\"Enter a day between 1 to 31 : \"))\n",
    "if day<month_length:\n",
    "    day+=1\n",
    "else:\n",
    "    day=1\n",
    "    if month==12:\n",
    "        month=1\n",
    "        yr+=1\n",
    "    else:\n",
    "        month+=1\n",
    "print(\"The immediate successor is YYYY-MM-DD : %d-%d-%d.\" %(yr,month,day))"
   ]
  },
  {
   "cell_type": "code",
   "execution_count": null,
   "metadata": {},
   "outputs": [],
   "source": []
  }
 ],
 "metadata": {
  "kernelspec": {
   "display_name": "Python 3",
   "language": "python",
   "name": "python3"
  },
  "language_info": {
   "codemirror_mode": {
    "name": "ipython",
    "version": 3
   },
   "file_extension": ".py",
   "mimetype": "text/x-python",
   "name": "python",
   "nbconvert_exporter": "python",
   "pygments_lexer": "ipython3",
   "version": "3.7.6"
  }
 },
 "nbformat": 4,
 "nbformat_minor": 4
}
