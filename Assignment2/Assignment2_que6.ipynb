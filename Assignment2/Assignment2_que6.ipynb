{
 "cells": [
  {
   "cell_type": "code",
   "execution_count": 2,
   "metadata": {},
   "outputs": [
    {
     "name": "stdout",
     "output_type": "stream",
     "text": [
      "Enter salary : 2500000\n",
      "Tax is :  750000.0\n"
     ]
    }
   ],
   "source": [
    "#6. Tax Calculator\n",
    "#   Ask the user for their monthly salary. Calculate whether they have to pay tax and if so,\n",
    "#   how much is that amount .Print the result.\n",
    "\n",
    "sal=int(input(\"Enter salary : \"))\n",
    "if (sal>=0) and (sal<=250000):\n",
    "    tax=(sal*0)\n",
    "elif (sal>250000) and (sal<=500000):\n",
    "    tax=(sal*0.05)\n",
    "elif (sal>500000) and (sal<=750000):\n",
    "    tax=(sal*0.1)\n",
    "elif (sal>750000) and (sal<=1000000):\n",
    "    tax=(sal*0.15)\n",
    "elif (sal>1000000) and (sal<=1250000):\n",
    "    tax=(sal*0.2)\n",
    "elif (sal>1250000) and (sal<=1500000):\n",
    "    tax=(sal*0.25)\n",
    "else:\n",
    "    tax=(sal*0.3)\n",
    "print(\"Tax is : \",tax)"
   ]
  },
  {
   "cell_type": "code",
   "execution_count": null,
   "metadata": {},
   "outputs": [],
   "source": []
  }
 ],
 "metadata": {
  "kernelspec": {
   "display_name": "Python 3",
   "language": "python",
   "name": "python3"
  },
  "language_info": {
   "codemirror_mode": {
    "name": "ipython",
    "version": 3
   },
   "file_extension": ".py",
   "mimetype": "text/x-python",
   "name": "python",
   "nbconvert_exporter": "python",
   "pygments_lexer": "ipython3",
   "version": "3.7.6"
  }
 },
 "nbformat": 4,
 "nbformat_minor": 4
}
