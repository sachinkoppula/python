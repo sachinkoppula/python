{
 "cells": [
  {
   "cell_type": "code",
   "execution_count": 1,
   "metadata": {},
   "outputs": [
    {
     "name": "stdout",
     "output_type": "stream",
     "text": [
      "Enter length of 1st side:4\n",
      "Enter length of 2nd side:2\n",
      "Enter length of 3rd side:6\n",
      "The triangle is not possible\n"
     ]
    }
   ],
   "source": [
    "#1. Given the lengths of three sides of a triangle, calculate the area of the triangle.\n",
    "\n",
    "a=float(input(\"Enter length of 1st side:\"))  \n",
    "b=float(input(\"Enter length of 2nd side:\"))  \n",
    "c=float(input(\"Enter length of 3rd side:\")) \n",
    "if (a+b>c):\n",
    "  s=(a+b+c)/2  \n",
    "  area=(s*(s-a)*(s-b)*(s-c))**0.5  \n",
    "  print(\"The area of the triangle:\",round(area,3))  \n",
    "else:\n",
    "  print(\"The triangle is not possible\")"
   ]
  },
  {
   "cell_type": "code",
   "execution_count": null,
   "metadata": {},
   "outputs": [],
   "source": []
  }
 ],
 "metadata": {
  "kernelspec": {
   "display_name": "Python 3",
   "language": "python",
   "name": "python3"
  },
  "language_info": {
   "codemirror_mode": {
    "name": "ipython",
    "version": 3
   },
   "file_extension": ".py",
   "mimetype": "text/x-python",
   "name": "python",
   "nbconvert_exporter": "python",
   "pygments_lexer": "ipython3",
   "version": "3.7.6"
  }
 },
 "nbformat": 4,
 "nbformat_minor": 4
}
