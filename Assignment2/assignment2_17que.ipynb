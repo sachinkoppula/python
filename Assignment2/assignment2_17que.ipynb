{
 "cells": [
  {
   "cell_type": "code",
   "execution_count": 1,
   "metadata": {},
   "outputs": [
    {
     "name": "stdout",
     "output_type": "stream",
     "text": [
      "Enter no of testcases : 2\n",
      "Enter capacity of vessel a : 5\n",
      "Enter capacity of vessel b : 2\n",
      "Enter capacity to be obtained :3\n",
      "Minimum number of steps required is :  2\n",
      "Enter capacity of vessel a : 4\n",
      "Enter capacity of vessel b : 5\n",
      "Enter capacity to be obtained :6\n",
      "Minimum number of steps required is :  -1\n"
     ]
    }
   ],
   "source": [
    "#17.  POUR1 - Pouring water\n",
    "#    Given two vessels, one of which can accommodate a litres of water and the other - b litres of water, \n",
    "#    determine the number of steps required to obtain exactly c litres of water in one of the vessels.\n",
    "#    At the beginning both vessels are empty. The following operations are counted as 'steps':\n",
    "#    emptying a vessel,filling a vessel,pouring water from one vessel to the other, without spilling, \n",
    "#    until one of the vessels is either full or empty.\n",
    "#    Input\n",
    "#    An integer t, 1<=t<=100, denoting the number of testcases , followed by t sets of input data, \n",
    "#    each consisting of three positive integers a, b, c, not larger than 40000, given in separate lines.\n",
    "#    Output\n",
    "#    For each set of input data, output the minimum number of steps required to obtain c litres, or -1 if this is impossible.\n",
    "\n",
    "def gcd(a,b):\n",
    "    if b==0: \n",
    "        return a \n",
    "    return gcd(b,a%b) \n",
    "def countsteps(a,b,c): \n",
    "    v1=b\n",
    "    v2=0\n",
    "    count=1\n",
    "    while ((v1 is not c) and (v2 is not c)): \n",
    "        temp=min(v1,a-v2) \n",
    "        v2=v2+temp \n",
    "        v1=v1-temp \n",
    "        count=count+1\n",
    "        if ((v2==c)or(v1==c)): \n",
    "            break\n",
    "        if v1==0: \n",
    "            v1=b \n",
    "            count=count+1\n",
    "        if v2==a: \n",
    "            v2=0\n",
    "            count=count+1\n",
    "    return count \n",
    "def ispossible(a,b,c): \n",
    "    if a>b: \n",
    "        temp=a \n",
    "        a=b \n",
    "        b=temp \n",
    "    if c>b: \n",
    "        return -1\n",
    "    if (c%(gcd(b,a)) is not 0): \n",
    "        return -1\n",
    "    return(min(countsteps(b,a,c),countsteps(a,b,c)))\n",
    "t=int(input(\"Enter no of testcases : \"))\n",
    "for i in range(t):\n",
    "  a=int(input(\"Enter capacity of vessel a : \"))\n",
    "  b=int(input(\"Enter capacity of vessel b : \"))\n",
    "  c=int(input(\"Enter capacity to be obtained :\"))\n",
    "  print(\"Minimum number of steps required is : \",ispossible(a,b,c))\n"
   ]
  },
  {
   "cell_type": "code",
   "execution_count": null,
   "metadata": {},
   "outputs": [],
   "source": []
  }
 ],
 "metadata": {
  "kernelspec": {
   "display_name": "Python 3",
   "language": "python",
   "name": "python3"
  },
  "language_info": {
   "codemirror_mode": {
    "name": "ipython",
    "version": 3
   },
   "file_extension": ".py",
   "mimetype": "text/x-python",
   "name": "python",
   "nbconvert_exporter": "python",
   "pygments_lexer": "ipython3",
   "version": "3.7.6"
  }
 },
 "nbformat": 4,
 "nbformat_minor": 4
}
