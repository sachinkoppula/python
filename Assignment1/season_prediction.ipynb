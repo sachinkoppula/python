{
 "cells": [
  {
   "cell_type": "code",
   "execution_count": 1,
   "metadata": {},
   "outputs": [
    {
     "name": "stdout",
     "output_type": "stream",
     "text": [
      "April\n",
      "Season :Spring\n"
     ]
    }
   ],
   "source": [
    "month=input()\n",
    "print(\"Season :\",end=\"\")\n",
    "if(month.lower()==\"december\" or month.lower()==\"january\" or month.lower()==\"february\"):\n",
    "    print(\"Winter\")\n",
    "elif(month.lower()==\"march\" or month.lower()==\"april\" or month.lower()==\"may\"):\n",
    "    print(\"Spring\")\n",
    "elif(month.lower()==\"june\" or month.lower()==\"july\" or month.lower()==\"august\"):\n",
    "    print(\"summer\")\n",
    "else:\n",
    "    print(\"Autumn\")"
   ]
  },
  {
   "cell_type": "code",
   "execution_count": null,
   "metadata": {},
   "outputs": [],
   "source": []
  }
 ],
 "metadata": {
  "kernelspec": {
   "display_name": "Python 3",
   "language": "python",
   "name": "python3"
  },
  "language_info": {
   "codemirror_mode": {
    "name": "ipython",
    "version": 3
   },
   "file_extension": ".py",
   "mimetype": "text/x-python",
   "name": "python",
   "nbconvert_exporter": "python",
   "pygments_lexer": "ipython3",
   "version": "3.7.6"
  }
 },
 "nbformat": 4,
 "nbformat_minor": 4
}
