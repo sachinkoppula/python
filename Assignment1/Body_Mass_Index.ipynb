{
 "cells": [
  {
   "cell_type": "code",
   "execution_count": 8,
   "metadata": {},
   "outputs": [
    {
     "name": "stdout",
     "output_type": "stream",
     "text": [
      "enter Weigth in pounds and height in meters\n",
      "1\n",
      "1000\n",
      "your Body Mass Index :0.0007030695796391593\n",
      "You are Underweight\n"
     ]
    }
   ],
   "source": [
    "print(\"enter Weigth in pounds and height in meters\")\n",
    "w=float(input())\n",
    "h=float(input())\n",
    "w=w*(0.45359237)\n",
    "h=h*(0.0254)\n",
    "bmi=(w/(h*h))\n",
    "print(\"your Body Mass Index :{}\".format(bmi))\n",
    "if(bmi<18.5):\n",
    "    print(\"You are Underweight\")\n",
    "elif(bmi>=18.5 and bmi<=25.0):\n",
    "    print(\"you are normal\")\n",
    "elif(bmi>25.0 and bmi<=30.0):\n",
    "    print(\"you are overweight\")\n",
    "else:\n",
    "    print(\"you are obessed\")"
   ]
  },
  {
   "cell_type": "code",
   "execution_count": null,
   "metadata": {},
   "outputs": [],
   "source": []
  },
  {
   "cell_type": "code",
   "execution_count": null,
   "metadata": {},
   "outputs": [],
   "source": []
  }
 ],
 "metadata": {
  "kernelspec": {
   "display_name": "Python 3",
   "language": "python",
   "name": "python3"
  },
  "language_info": {
   "codemirror_mode": {
    "name": "ipython",
    "version": 3
   },
   "file_extension": ".py",
   "mimetype": "text/x-python",
   "name": "python",
   "nbconvert_exporter": "python",
   "pygments_lexer": "ipython3",
   "version": "3.7.6"
  }
 },
 "nbformat": 4,
 "nbformat_minor": 4
}
