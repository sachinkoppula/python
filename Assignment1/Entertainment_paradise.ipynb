{
 "cells": [
  {
   "cell_type": "code",
   "execution_count": 2,
   "metadata": {},
   "outputs": [
    {
     "name": "stdout",
     "output_type": "stream",
     "text": [
      "enter Type of seat : circle\n",
      "enter Payment Mode\n",
      "cash\n",
      "cost of ticket : 675.0\n"
     ]
    }
   ],
   "source": [
    "print(\"enter Type of seat : \",end=\"\")\n",
    "s=input()\n",
    "print(\"enter Payment Mode\")\n",
    "p=input()\n",
    "if(s.lower()==\"stalls\"):\n",
    "    c=625\n",
    "elif(s.lower()==\"circle\"):\n",
    "    c=750\n",
    "elif(s.lower()==\"upper class\"):\n",
    "    c=850\n",
    "else:\n",
    "    c=1000\n",
    "\n",
    "if(p.lower()==\"cash\"):\n",
    "    x=c*(0.1)\n",
    "    c-=x\n",
    "else:\n",
    "    x=c*(0.05)\n",
    "    c-=x\n",
    "print(f\"cost of ticket : {c}\")"
   ]
  },
  {
   "cell_type": "code",
   "execution_count": null,
   "metadata": {},
   "outputs": [],
   "source": []
  }
 ],
 "metadata": {
  "kernelspec": {
   "display_name": "Python 3",
   "language": "python",
   "name": "python3"
  },
  "language_info": {
   "codemirror_mode": {
    "name": "ipython",
    "version": 3
   },
   "file_extension": ".py",
   "mimetype": "text/x-python",
   "name": "python",
   "nbconvert_exporter": "python",
   "pygments_lexer": "ipython3",
   "version": "3.7.6"
  }
 },
 "nbformat": 4,
 "nbformat_minor": 4
}
