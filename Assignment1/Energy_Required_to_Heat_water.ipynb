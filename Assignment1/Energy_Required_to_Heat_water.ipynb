{
 "cells": [
  {
   "cell_type": "code",
   "execution_count": 3,
   "metadata": {},
   "outputs": [
    {
     "name": "stdout",
     "output_type": "stream",
     "text": [
      "enter amount of water in kg's 1\n",
      "enter initial temparature of water 1\n",
      "enter final temparature of water 2\n",
      "energy required : 4184\n"
     ]
    }
   ],
   "source": [
    "print(\"enter amount of water in kg's\",end=\" \")\n",
    "w=int(input())\n",
    "print(\"enter initial temparature of water\",end=\" \")\n",
    "i=int(input())\n",
    "print(\"enter final temparature of water\",end=\" \")\n",
    "f=int(input())\n",
    "q=w*(f-i)*4184\n",
    "print(\"energy required : {}\".format(q))"
   ]
  },
  {
   "cell_type": "code",
   "execution_count": null,
   "metadata": {},
   "outputs": [],
   "source": []
  },
  {
   "cell_type": "code",
   "execution_count": null,
   "metadata": {},
   "outputs": [],
   "source": []
  }
 ],
 "metadata": {
  "kernelspec": {
   "display_name": "Python 3",
   "language": "python",
   "name": "python3"
  },
  "language_info": {
   "codemirror_mode": {
    "name": "ipython",
    "version": 3
   },
   "file_extension": ".py",
   "mimetype": "text/x-python",
   "name": "python",
   "nbconvert_exporter": "python",
   "pygments_lexer": "ipython3",
   "version": "3.7.6"
  }
 },
 "nbformat": 4,
 "nbformat_minor": 4
}
