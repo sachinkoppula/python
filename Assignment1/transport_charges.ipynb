{
 "cells": [
  {
   "cell_type": "code",
   "execution_count": 2,
   "metadata": {},
   "outputs": [
    {
     "name": "stdout",
     "output_type": "stream",
     "text": [
      "enter distance to be travelled 520\n",
      "enter weight of goods 50\n",
      "amount to be charged : 3120\n"
     ]
    }
   ],
   "source": [
    "print(\"enter distance to be travelled\",end=\" \")\n",
    "d=int(input())\n",
    "print(\"enter weight of goods\",end=\" \")\n",
    "w=int(input())\n",
    "if(d>=500):\n",
    "    if(w>=100):\n",
    "        c=5\n",
    "    elif(w>=10 and w<100):\n",
    "        c=6\n",
    "    else:\n",
    "        c=7\n",
    "else:\n",
    "    if(w>=100):\n",
    "        c=8\n",
    "    else:\n",
    "        c=5\n",
    "print(f'amount to be charged : {d*c}')"
   ]
  },
  {
   "cell_type": "code",
   "execution_count": null,
   "metadata": {},
   "outputs": [],
   "source": []
  }
 ],
 "metadata": {
  "kernelspec": {
   "display_name": "Python 3",
   "language": "python",
   "name": "python3"
  },
  "language_info": {
   "codemirror_mode": {
    "name": "ipython",
    "version": 3
   },
   "file_extension": ".py",
   "mimetype": "text/x-python",
   "name": "python",
   "nbconvert_exporter": "python",
   "pygments_lexer": "ipython3",
   "version": "3.7.6"
  }
 },
 "nbformat": 4,
 "nbformat_minor": 4
}
